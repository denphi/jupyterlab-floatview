{
 "cells": [
  {
   "cell_type": "code",
   "execution_count": null,
   "metadata": {},
   "outputs": [],
   "source": [
    "import floatview\n",
    "import pandas as pd\n",
    "import requests\n",
    "import io\n",
    "import random"
   ]
  },
  {
   "cell_type": "code",
   "execution_count": null,
   "metadata": {},
   "outputs": [],
   "source": [
    "tab = pd.read_csv('cars.csv', index_col=False, sep=';', skiprows=[1])"
   ]
  },
  {
   "cell_type": "code",
   "execution_count": null,
   "metadata": {},
   "outputs": [],
   "source": [
    "gmw = floatview.GlueManagerWidget(tab, modal=False, label=\"400Cars\", display_console=True)"
   ]
  },
  {
   "cell_type": "code",
   "execution_count": null,
   "metadata": {},
   "outputs": [],
   "source": [
    "#f01 = gmw.gluemanager.newView(\"table\", [\"Car\", \"MPG\"], \"Table\", modal=False);"
   ]
  },
  {
   "cell_type": "code",
   "execution_count": null,
   "metadata": {},
   "outputs": [],
   "source": [
    "#f02 = gmw.gluemanager.newView(\"sankey\", [\"Acceleration\", \"Cylinders\", \"Model\", \"MPG\"], \"Sankey\", modal=False);"
   ]
  },
  {
   "cell_type": "code",
   "execution_count": null,
   "metadata": {},
   "outputs": [],
   "source": [
    "for k in range(7):\n",
    "    gmw.gluemanager.updateSelection([random.randint(0,100) for i in range(20)])\n",
    "    gmw.gluemanager.createSubsetFromSelection(label='subset' + str(k) )"
   ]
  },
  {
   "cell_type": "code",
   "execution_count": null,
   "metadata": {},
   "outputs": [],
   "source": [
    "#f03 = gmw.gluemanager.newView(\"parallelscat\", [\"Acceleration\", \"Cylinders\", \"MPG\"], \"Parallels\", modal=False);"
   ]
  },
  {
   "cell_type": "code",
   "execution_count": null,
   "metadata": {},
   "outputs": [],
   "source": [
    "for k in range(1,6):\n",
    "    gmw.disableComponentFromSelection('subset' + str(k))"
   ]
  },
  {
   "cell_type": "code",
   "execution_count": null,
   "metadata": {},
   "outputs": [],
   "source": [
    "#f04 = gmw.gluemanager.newView(\"sankey\", [\"Acceleration\", \"Cylinders\", \"MPG\"], \"Parallels\", modal=False);"
   ]
  },
  {
   "cell_type": "code",
   "execution_count": null,
   "metadata": {},
   "outputs": [],
   "source": [
    "#f05 = gmw.gluemanager.newView(\"scattermatrix\", [\"Cylinders\", \"Model\", \"MPG\", \"Acceleration\" ], \"Scatter\", modal=False);"
   ]
  },
  {
   "cell_type": "code",
   "execution_count": null,
   "metadata": {},
   "outputs": [],
   "source": [
    "#f06 = gmw.gluemanager.newView(\"scatter\", [\"MPG\", \"Acceleration\"], \"Scatter\", modal=False);"
   ]
  },
  {
   "cell_type": "code",
   "execution_count": null,
   "metadata": {},
   "outputs": [],
   "source": [
    "#f07 = gmw.gluemanager.newView(\"sankeytree\", [\"Acceleration\", \"MPG\", \"Cylinders\"], \"Sankey\", modal=False, only_view=True)"
   ]
  },
  {
   "cell_type": "code",
   "execution_count": null,
   "metadata": {},
   "outputs": [],
   "source": [
    "#f08 = gmw.gluemanager.newView(\"sunburst\", [\"Cylinders\", \"Acceleration\", \"MPG\", \"Weight\"], \"Sunburst\", modal=False);"
   ]
  },
  {
   "cell_type": "code",
   "execution_count": null,
   "metadata": {},
   "outputs": [],
   "source": [
    "#f09 = gmw.gluemanager.newView(\"parallels\", [\"Acceleration\", \"Cylinders\", \"MPG\",\"Cylinders\",\"Weight\"], \"Parallels\", modal=False);"
   ]
  },
  {
   "cell_type": "code",
   "execution_count": null,
   "metadata": {},
   "outputs": [],
   "source": [
    "#f10 = gmw.gluemanager.newView(\"table\", [\"Acceleration\", \"Cylinders\", \"MPG\",\"Cylinders\",\"Weight\"], \"Table\", modal=False);"
   ]
  },
  {
   "cell_type": "code",
   "execution_count": null,
   "metadata": {},
   "outputs": [],
   "source": [
    "#f11 = gmw.gluemanager.newView(\"histogram\", [\"Cylinders\"], \"Histogram\", modal=False);"
   ]
  },
  {
   "cell_type": "code",
   "execution_count": null,
   "metadata": {},
   "outputs": [],
   "source": [
    "#f12 = gmw.gluemanager.newView(\"contour\", [\"Weight\", \"MPG\"], \"Contour\", modal=False);"
   ]
  },
  {
   "cell_type": "code",
   "execution_count": null,
   "metadata": {},
   "outputs": [],
   "source": [
    "#f13 = gmw.gluemanager.newView(\"errorbar\", [\"Acceleration\", \"Cylinders\"], \"Errorbar\", modal=False);"
   ]
  },
  {
   "cell_type": "code",
   "execution_count": null,
   "metadata": {},
   "outputs": [],
   "source": [
    "#f14 = gmw.gluemanager.newView(\"composed_lines\", [\"Cylinders\", \"MPG\", \"Weight\"], \"Composed Lines\", modal=False);"
   ]
  },
  {
   "cell_type": "code",
   "execution_count": null,
   "metadata": {},
   "outputs": [],
   "source": [
    "#f15 = gmw.gluemanager.newView(\"composed_polyfit_3d\", [\"MPG\",\"Weight\",\"MPG\"], \"Composed Poly\", modal=False);"
   ]
  },
  {
   "cell_type": "code",
   "execution_count": null,
   "metadata": {},
   "outputs": [],
   "source": [
    "#f16 = gmw.gluemanager.newView(\"scatter3D\", [\"MPG\",\"Horsepower\",\"Weight\"], \"Scatter3D\", modal=False);"
   ]
  },
  {
   "cell_type": "code",
   "execution_count": null,
   "metadata": {},
   "outputs": [],
   "source": [
    "#f17 = gmw.gluemanager.newView(\"image\", [\"MPG\",\"Horsepower\",\"Weight\"], \"Image\", modal=False);"
   ]
  },
  {
   "cell_type": "code",
   "execution_count": null,
   "metadata": {},
   "outputs": [],
   "source": [
    "#f18 = gmw.gluemanager.newView(\"pca\", [\"Acceleration\", \"Cylinders\", \"Model\", \"MPG\"], \"Principal Component Analisis\", modal=False);"
   ]
  },
  {
   "cell_type": "code",
   "execution_count": null,
   "metadata": {},
   "outputs": [],
   "source": [
    "#f19 = gmw.gluemanager.newView(\"corrcoef\", [\"Acceleration\", \"Cylinders\", \"MPG\",\"Car\",\"Weight\"], \"Correlation Matrix\", modal=False);"
   ]
  },
  {
   "cell_type": "code",
   "execution_count": null,
   "metadata": {},
   "outputs": [],
   "source": [
    "#f20 = gmw.gluemanager.newView(\"network\", [\"Acceleration\", \"MPG\"], \"Network\", modal=False);"
   ]
  },
  {
   "cell_type": "code",
   "execution_count": null,
   "metadata": {},
   "outputs": [],
   "source": [
    "#from floatview.dataexplorer import DataExplorer\n",
    "#DataExplorer()"
   ]
  },
  {
   "cell_type": "code",
   "execution_count": null,
   "metadata": {},
   "outputs": [],
   "source": []
  },
  {
   "cell_type": "code",
   "execution_count": null,
   "metadata": {},
   "outputs": [],
   "source": []
  }
 ],
 "metadata": {
  "kernelspec": {
   "display_name": "Python 3",
   "language": "python",
   "name": "python3"
  },
  "language_info": {
   "codemirror_mode": {
    "name": "ipython",
    "version": 3
   },
   "file_extension": ".py",
   "mimetype": "text/x-python",
   "name": "python",
   "nbconvert_exporter": "python",
   "pygments_lexer": "ipython3",
   "version": "3.6.6"
  }
 },
 "nbformat": 4,
 "nbformat_minor": 2
}
